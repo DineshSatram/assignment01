{
  "nbformat": 4,
  "nbformat_minor": 0,
  "metadata": {
    "colab": {
      "name": "assignment1.ipynb",
      "provenance": []
    },
    "kernelspec": {
      "name": "python3",
      "display_name": "Python 3"
    },
    "language_info": {
      "name": "python"
    }
  },
  "cells": [
    {
      "cell_type": "code",
      "execution_count": null,
      "metadata": {
        "id": "7qrqrAoTWNdU"
      },
      "outputs": [],
      "source": [
        ""
      ]
    },
    {
      "cell_type": "code",
      "source": [
        "import pandas as pd\n",
        "data={\n",
        "    \"Student\":[\"Dinesh\",\"karthik\",\"venkat\",\"Hari\"],\n",
        "    \"Subject1\":[93,94,95,69],\n",
        "    \"Subject2\":[74,93,55,48],\n",
        "    \"Subject3\":[63,93,51,39]\n",
        "}\n",
        "columnsList=[\"Subject1\",\"Subject2\",\"Subject3\"]\n",
        "answer=pd.DataFrame(data,columns = [\"Student\",\"Subject1\",\"Subject2\",\"Subject3\"])\n",
        "answer[\"Total_marks\"]=answer[columnsList].sum(axis=1)\n",
        "columnList1=answer[\"Total_marks\"].tolist()\n",
        "fp=[]\n",
        "grade=[]\n",
        "\n",
        "for ind in answer.index:\n",
        "     if((answer[\"Total_marks\"][ind])<200):\n",
        "            fp.append(\"FAIL\")\n",
        "     else:\n",
        "        fp.append(\"PASS\")\n",
        "     if((answer[\"Total_marks\"][ind])>275):\n",
        "        grade.append(\"O\")\n",
        "     elif((answer[\"Total_marks\"][ind])>250):\n",
        "        grade.append(\"A\")\n",
        "     elif((answer[\"Total_marks\"][ind])>225):\n",
        "        grade.append(\"B\")\n",
        "     elif((answer[\"Total_marks\"][ind])>200):\n",
        "        grade.append(\"C\")\n",
        "     elif((answer[\"Total_marks\"][ind])<200):\n",
        "        grade.append(\"RA\")\n",
        "    \n",
        "answer[\"Grade\"]=grade\n",
        "answer[\"Pass/Fail\"]=fp\n",
        "answer.to_csv(\"assignment1.csv\",index=True)\n",
        "\n",
        "print(answer)"
      ],
      "metadata": {
        "colab": {
          "base_uri": "https://localhost:8080/"
        },
        "id": "MdYCzjwGWO57",
        "outputId": "98f1ca35-eb09-44ed-ae72-d5b21638046f"
      },
      "execution_count": 8,
      "outputs": [
        {
          "output_type": "stream",
          "name": "stdout",
          "text": [
            "   Student  Subject1  Subject2  Subject3  Total_marks Grade Pass/Fail\n",
            "0   Dinesh        93        74        63          230     B      PASS\n",
            "1  karthik        94        93        93          280     O      PASS\n",
            "2   venkat        95        55        51          201     C      PASS\n",
            "3     Hari        69        48        39          156    RA      FAIL\n"
          ]
        }
      ]
    }
  ]
}